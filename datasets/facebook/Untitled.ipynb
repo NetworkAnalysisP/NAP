{
 "cells": [
  {
   "cell_type": "code",
   "execution_count": 20,
   "id": "2aca693b-350d-439f-8d8a-650ac85ef639",
   "metadata": {},
   "outputs": [],
   "source": [
    "import snap\n",
    "from snap import *"
   ]
  },
  {
   "cell_type": "code",
   "execution_count": 27,
   "id": "5e9aad43-89da-4500-a875-15bc174d103c",
   "metadata": {},
   "outputs": [],
   "source": [
    "LoadedUGraph = snap.LoadEdgeList(snap.TUNGraph, \"0.edges\", 0, 1, ' ')"
   ]
  },
  {
   "cell_type": "code",
   "execution_count": 29,
   "id": "881af278-09d2-41c3-aa69-3fc4b4787689",
   "metadata": {},
   "outputs": [],
   "source": [
    "LoadedUGraph.PrintInfo(\"Python type TUNGraph\", \"info-pungraph.txt\")"
   ]
  },
  {
   "cell_type": "code",
   "execution_count": null,
   "id": "4622aa5b-3f8e-460f-9107-fc62d324a363",
   "metadata": {},
   "outputs": [],
   "source": []
  }
 ],
 "metadata": {
  "kernelspec": {
   "display_name": "Python 3 (ipykernel)",
   "language": "python",
   "name": "python3"
  },
  "language_info": {
   "codemirror_mode": {
    "name": "ipython",
    "version": 3
   },
   "file_extension": ".py",
   "mimetype": "text/x-python",
   "name": "python",
   "nbconvert_exporter": "python",
   "pygments_lexer": "ipython3",
   "version": "3.9.1"
  }
 },
 "nbformat": 4,
 "nbformat_minor": 5
}
