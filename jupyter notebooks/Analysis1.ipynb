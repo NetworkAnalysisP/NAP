{
 "cells": [
  {
   "cell_type": "code",
   "execution_count": 1,
   "id": "35c5132f-9086-4206-b86e-c9dea4a91c11",
   "metadata": {},
   "outputs": [],
   "source": [
    "import networkx as nx\n",
    "import matplotlib.pyplot as plt\n",
    "G1 =nx.read_edgelist('edge_list.txt', create_using = nx.Graph(), nodetype=int)"
   ]
  },
  {
   "cell_type": "code",
   "execution_count": 2,
   "id": "53e299d1-fc31-484f-b4f7-26902f2b1f62",
   "metadata": {},
   "outputs": [],
   "source": [
    "betCent = nx.betweenness_centrality(G1, normalized=True, endpoints=True)"
   ]
  },
  {
   "cell_type": "code",
   "execution_count": 3,
   "id": "5cf905a4-d761-445e-9c40-ac78923fbc2e",
   "metadata": {},
   "outputs": [],
   "source": [
    "degreeCent = nx.degree_centrality(G1)"
   ]
  },
  {
   "cell_type": "code",
   "execution_count": 4,
   "id": "07f65878-af11-41d2-bf14-5423ba404785",
   "metadata": {},
   "outputs": [],
   "source": [
    "closenessCent = nx.closeness_centrality(G1, u=None, distance=None, wf_improved=True)"
   ]
  },
  {
   "cell_type": "code",
   "execution_count": 5,
   "id": "0349d67f-3cb7-46b6-83b2-f9aa9a656a30",
   "metadata": {},
   "outputs": [],
   "source": [
    "from networkx import eigenvector_centrality\n",
    "from networkx import load_centrality"
   ]
  },
  {
   "cell_type": "code",
   "execution_count": 6,
   "id": "662f284a-b035-4ade-8819-bba2f40c8349",
   "metadata": {},
   "outputs": [],
   "source": [
    "EigCent= eigenvector_centrality(G1, max_iter=100, tol=1e-06, nstart=None, weight=None)"
   ]
  },
  {
   "cell_type": "code",
   "execution_count": 7,
   "id": "d7644217-7895-4488-b2e0-4bcca04431d7",
   "metadata": {},
   "outputs": [],
   "source": [
    "LoadCentr=load_centrality(G1, v=None, cutoff=None, normalized=True, weight=None)"
   ]
  },
  {
   "cell_type": "code",
   "execution_count": 8,
   "id": "d2b0813e-6a17-4992-a404-e3e1a5490404",
   "metadata": {},
   "outputs": [],
   "source": [
    "#dictionary with all the results for each node of all the centrality measures applied \n",
    "final_dict= dict()\n",
    "for x in betCent.keys():\n",
    "    new_dic=dict()\n",
    "    new_dic['betCent']= betCent[x]\n",
    "    new_dic['degreeCent']=degreeCent[x]\n",
    "    new_dic['closenessCent']=closenessCent[x]\n",
    "    new_dic['eigCent']=EigCent[x]\n",
    "    new_dic['loadCent']= LoadCentr[x]\n",
    "    final_dict[x]=new_dic"
   ]
  },
  {
   "cell_type": "code",
   "execution_count": 9,
   "id": "4194c830-84ad-41ae-bcc0-3899bf41d61c",
   "metadata": {},
   "outputs": [],
   "source": [
    "import pandas as pd\n",
    "df = pd.DataFrame(final_dict)\n",
    "df = df.transpose()"
   ]
  },
  {
   "cell_type": "code",
   "execution_count": 10,
   "id": "60037d2e-853d-4395-941e-78869a9f6733",
   "metadata": {},
   "outputs": [
    {
     "data": {
      "text/html": [
       "<div>\n",
       "<style scoped>\n",
       "    .dataframe tbody tr th:only-of-type {\n",
       "        vertical-align: middle;\n",
       "    }\n",
       "\n",
       "    .dataframe tbody tr th {\n",
       "        vertical-align: top;\n",
       "    }\n",
       "\n",
       "    .dataframe thead th {\n",
       "        text-align: right;\n",
       "    }\n",
       "</style>\n",
       "<table border=\"1\" class=\"dataframe\">\n",
       "  <thead>\n",
       "    <tr style=\"text-align: right;\">\n",
       "      <th></th>\n",
       "      <th>betCent</th>\n",
       "      <th>degreeCent</th>\n",
       "      <th>closenessCent</th>\n",
       "      <th>eigCent</th>\n",
       "      <th>loadCent</th>\n",
       "    </tr>\n",
       "  </thead>\n",
       "  <tbody>\n",
       "    <tr>\n",
       "      <th>100</th>\n",
       "      <td>0.019615</td>\n",
       "      <td>0.070905</td>\n",
       "      <td>0.315830</td>\n",
       "      <td>0.003435</td>\n",
       "      <td>0.015008</td>\n",
       "    </tr>\n",
       "    <tr>\n",
       "      <th>101</th>\n",
       "      <td>0.006270</td>\n",
       "      <td>0.031785</td>\n",
       "      <td>0.283831</td>\n",
       "      <td>0.001452</td>\n",
       "      <td>0.001334</td>\n",
       "    </tr>\n",
       "    <tr>\n",
       "      <th>102</th>\n",
       "      <td>0.005623</td>\n",
       "      <td>0.039120</td>\n",
       "      <td>0.269256</td>\n",
       "      <td>0.001433</td>\n",
       "      <td>0.000844</td>\n",
       "    </tr>\n",
       "    <tr>\n",
       "      <th>103</th>\n",
       "      <td>0.011580</td>\n",
       "      <td>0.063570</td>\n",
       "      <td>0.294033</td>\n",
       "      <td>0.002439</td>\n",
       "      <td>0.006604</td>\n",
       "    </tr>\n",
       "    <tr>\n",
       "      <th>104</th>\n",
       "      <td>0.006071</td>\n",
       "      <td>0.041565</td>\n",
       "      <td>0.268197</td>\n",
       "      <td>0.001513</td>\n",
       "      <td>0.001264</td>\n",
       "    </tr>\n",
       "    <tr>\n",
       "      <th>...</th>\n",
       "      <td>...</td>\n",
       "      <td>...</td>\n",
       "      <td>...</td>\n",
       "      <td>...</td>\n",
       "      <td>...</td>\n",
       "    </tr>\n",
       "    <tr>\n",
       "      <th>89</th>\n",
       "      <td>0.004882</td>\n",
       "      <td>0.009780</td>\n",
       "      <td>0.241014</td>\n",
       "      <td>0.000256</td>\n",
       "      <td>0.000005</td>\n",
       "    </tr>\n",
       "    <tr>\n",
       "      <th>91</th>\n",
       "      <td>0.011262</td>\n",
       "      <td>0.051345</td>\n",
       "      <td>0.273396</td>\n",
       "      <td>0.001982</td>\n",
       "      <td>0.006504</td>\n",
       "    </tr>\n",
       "    <tr>\n",
       "      <th>96</th>\n",
       "      <td>0.005200</td>\n",
       "      <td>0.036675</td>\n",
       "      <td>0.256587</td>\n",
       "      <td>0.001316</td>\n",
       "      <td>0.000346</td>\n",
       "    </tr>\n",
       "    <tr>\n",
       "      <th>99</th>\n",
       "      <td>0.005198</td>\n",
       "      <td>0.034230</td>\n",
       "      <td>0.261342</td>\n",
       "      <td>0.001096</td>\n",
       "      <td>0.000413</td>\n",
       "    </tr>\n",
       "    <tr>\n",
       "      <th>98</th>\n",
       "      <td>0.004878</td>\n",
       "      <td>0.002445</td>\n",
       "      <td>0.214811</td>\n",
       "      <td>0.000085</td>\n",
       "      <td>0.000000</td>\n",
       "    </tr>\n",
       "  </tbody>\n",
       "</table>\n",
       "<p>410 rows × 5 columns</p>\n",
       "</div>"
      ],
      "text/plain": [
       "      betCent  degreeCent  closenessCent   eigCent  loadCent\n",
       "100  0.019615    0.070905       0.315830  0.003435  0.015008\n",
       "101  0.006270    0.031785       0.283831  0.001452  0.001334\n",
       "102  0.005623    0.039120       0.269256  0.001433  0.000844\n",
       "103  0.011580    0.063570       0.294033  0.002439  0.006604\n",
       "104  0.006071    0.041565       0.268197  0.001513  0.001264\n",
       "..        ...         ...            ...       ...       ...\n",
       "89   0.004882    0.009780       0.241014  0.000256  0.000005\n",
       "91   0.011262    0.051345       0.273396  0.001982  0.006504\n",
       "96   0.005200    0.036675       0.256587  0.001316  0.000346\n",
       "99   0.005198    0.034230       0.261342  0.001096  0.000413\n",
       "98   0.004878    0.002445       0.214811  0.000085  0.000000\n",
       "\n",
       "[410 rows x 5 columns]"
      ]
     },
     "execution_count": 10,
     "metadata": {},
     "output_type": "execute_result"
    }
   ],
   "source": [
    "df"
   ]
  },
  {
   "cell_type": "code",
   "execution_count": 11,
   "id": "6a1e69a5-9e50-46d7-a881-f9afb5f0c955",
   "metadata": {},
   "outputs": [],
   "source": [
    "import matplotlib.ticker"
   ]
  },
  {
   "cell_type": "code",
   "execution_count": 20,
   "id": "fcc60af2-37a7-4d0b-a06d-3f1b3ffc2805",
   "metadata": {},
   "outputs": [
    {
     "name": "stderr",
     "output_type": "stream",
     "text": [
      "C:\\Users\\marta\\AppData\\Local\\Programs\\Python\\Python39\\lib\\site-packages\\IPython\\core\\pylabtools.py:151: UserWarning: This figure includes Axes that are not compatible with tight_layout, so results might be incorrect.\n",
      "  fig.canvas.print_figure(bytes_io, **kw)\n"
     ]
    },
    {
     "data": {
      "image/png": "[encoded data removed]",
      "text/plain": [
       "<Figure size 700x700 with 1 Axes>"
      ]
     },
     "metadata": {},
     "output_type": "display_data"
    }
   ],
   "source": [
    "plt.rcParams[\"figure.figsize\"] = [7, 7]\n",
    "plt.rcParams[\"figure.autolayout\"] = True\n",
    "\n",
    "fig, ax = plt.subplots()\n",
    "df['degreeCent'].value_counts().plot( kind='kde', ax=ax, logx=True, bw_method=0.05)\n",
    "df['closenessCent'].plot( kind='kde', ax=ax, logx=True, bw_method=0.05, color='red')\n",
    "df['eigCent'].plot(kind='kde', ax=ax, logx=True, bw_method=0.05, color='green')\n",
    "df['loadCent'].plot(kind='kde', ax=ax, logx=True, bw_method=0.05, color='black')\n",
    "df['betCent'].plot(kind='kde', ax=ax, logx= True, bw_method=0.05, color = 'orange')\n",
    "plt.show()"
   ]
  },
  {
   "cell_type": "markdown",
   "id": "b6a72940-ebc5-4596-b717-1ffef6d8b543",
   "metadata": {},
   "source": [
    "<p>This is the graph showing the probability density functions obtained through the same method as before, that is the Pandas method <b>'kde'</b>, passing as input all the results obtained for each of the five centrality measures applied to the real-world network INFECTIOUS. In this case we decided to set the scalar bandwidth equal to 0.05, a larger value than the one used for the vizualization of the graph derived from the Facebook Ego dataset, because also the results we gathered from the execution of the centrality measures are higher. Consequently, for this graph the choice of a very small bandwidth value would have resulted in over-fitting.</p>"
   ]
  },
  {
   "cell_type": "markdown",
   "id": "083d1400-e174-43b8-bc61-658d7d72caff",
   "metadata": {},
   "source": [
    "Also in this case:\n",
    "<ul>\n",
    "    <li>the blue plot represents the PDF of the degree centrality,</li>\n",
    "    <li>the red plot represents the PDF of the closeness centrality,</li>\n",
    "    <li>the green plot represents the PDF of the eigenvector centrality,</li>\n",
    "    <li>the orange plot represents the PDF of the betweenness centrality,</li>\n",
    "    <li>the black plot represents the PDF of the load centrality</li>\n",
    "</ul>\n",
    "    "
   ]
  },
  {
   "cell_type": "markdown",
   "id": "4de3a16a-aeb0-4f94-92c0-258c21f2e30d",
   "metadata": {},
   "source": [
    "<p>We can extrapolate some interesting information by looking at the graph:\n",
    "<ul>\n",
    "    <li>also in this case we can notice a strong difference between the two distributions of the closeness centrality and degree centrality: while the blue plot is very close to be a line, there isn't a peak in density and the distribution of the values is really spread, the red plot shows the highest concentration of values more or less in the same density area; there are some peaks but we can say that the closeness centrality nodes' values do not vary a lot one from another;</li>\n",
    "    <li>the load centrality and the eigenvector centrality distributions have a similar tendency: starting from an high density level for small values, the distributions reach soon their highest peak and then they decrease rapidly;</li>\n",
    "    <li>the tendency of the betweenness centrality distribution is curious: for very small values the curve tendes to 0, then it reaches very soon its highest peak (for values a bit minor of 0,01) and decreases very quickly with some minor peaks for higher betweenness centrality values.</li>\n",
    "</ul>\n",
    "</p>"
   ]
  },
  {
   "cell_type": "code",
   "execution_count": null,
   "id": "3756e860-6217-4106-a8ce-f1730930fcbd",
   "metadata": {},
   "outputs": [],
   "source": []
  }
 ],
 "metadata": {
  "kernelspec": {
   "display_name": "Python 3 (ipykernel)",
   "language": "python",
   "name": "python3"
  },
  "language_info": {
   "codemirror_mode": {
    "name": "ipython",
    "version": 3
   },
   "file_extension": ".py",
   "mimetype": "text/x-python",
   "name": "python",
   "nbconvert_exporter": "python",
   "pygments_lexer": "ipython3",
   "version": "3.10.5"
  }
 },
 "nbformat": 4,
 "nbformat_minor": 5
}
