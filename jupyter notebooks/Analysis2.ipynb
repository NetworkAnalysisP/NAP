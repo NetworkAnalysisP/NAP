{
 "cells": [
  {
   "cell_type": "code",
   "execution_count": 1,
   "id": "ff32203b-70e1-4576-b8d5-f0e1b5cb4120",
   "metadata": {},
   "outputs": [],
   "source": [
    "import networkx as nx\n",
    "import matplotlib.pyplot as plt\n",
    "G1 =nx.read_edgelist('facebook_combined.txt', create_using = nx.Graph(), nodetype=int)"
   ]
  },
  {
   "cell_type": "code",
   "execution_count": 61,
   "id": "dd990957-6876-4278-a9f7-4f052e392cf0",
   "metadata": {},
   "outputs": [],
   "source": [
    "betCent = nx.betweenness_centrality(G1, normalized=True, endpoints=True)"
   ]
  },
  {
   "cell_type": "code",
   "execution_count": 3,
   "id": "c2e41436-22d7-477f-8271-d26c895d9a0c",
   "metadata": {},
   "outputs": [],
   "source": [
    "degreeCent = nx.degree_centrality(G1)"
   ]
  },
  {
   "cell_type": "code",
   "execution_count": 4,
   "id": "a8a2e676-fc21-4b6e-91fc-f793bb56178b",
   "metadata": {},
   "outputs": [],
   "source": [
    "closenessCent = nx.closeness_centrality(G1, u=None, distance=None, wf_improved=True)"
   ]
  },
  {
   "cell_type": "code",
   "execution_count": 9,
   "id": "fecdf597-2026-488a-88d3-bda8516a9138",
   "metadata": {},
   "outputs": [],
   "source": [
    "from networkx import eigenvector_centrality\n",
    "from networkx import load_centrality"
   ]
  },
  {
   "cell_type": "code",
   "execution_count": 7,
   "id": "a144e550-b6a9-40b7-bb91-e41da9f2f220",
   "metadata": {},
   "outputs": [],
   "source": [
    "EigCent= eigenvector_centrality(G1, max_iter=100, tol=1e-06, nstart=None, weight=None)"
   ]
  },
  {
   "cell_type": "code",
   "execution_count": 10,
   "id": "73eda7ad-082a-4b1d-901c-6b1d4897082f",
   "metadata": {},
   "outputs": [],
   "source": [
    "LoadCentr=load_centrality(G1, v=None, cutoff=None, normalized=True, weight=None)"
   ]
  },
  {
   "cell_type": "code",
   "execution_count": 62,
   "id": "ffd001f7-4fbe-4c3e-8443-6818b2656dd0",
   "metadata": {},
   "outputs": [],
   "source": [
    "#dictionary with all the results for each node of all the centrality measures applied \n",
    "final_dict= dict()\n",
    "for x in betCent.keys():\n",
    "    new_dic=dict()\n",
    "    new_dic['betCent']= betCent[x]\n",
    "    new_dic['degreeCent']=degreeCent[x]\n",
    "    new_dic['closenessCent']=closenessCent[x]\n",
    "    new_dic['eigCent']=EigCent[x]\n",
    "    new_dic['loadCent']= LoadCentr[x]\n",
    "    final_dict[x]=new_dic"
   ]
  },
  {
   "cell_type": "code",
   "execution_count": 63,
   "id": "e0afbfd5-d442-49b5-999f-3f051e2fb6dc",
   "metadata": {},
   "outputs": [],
   "source": [
    "import pandas as pd\n",
    "df = pd.DataFrame(final_dict)\n",
    "df = df.transpose()"
   ]
  },
  {
   "cell_type": "code",
   "execution_count": 64,
   "id": "2f4488d5-7cf3-40b2-b884-d1abf7fdd0a8",
   "metadata": {},
   "outputs": [
    {
     "data": {
      "text/html": [
       "<div>\n",
       "<style scoped>\n",
       "    .dataframe tbody tr th:only-of-type {\n",
       "        vertical-align: middle;\n",
       "    }\n",
       "\n",
       "    .dataframe tbody tr th {\n",
       "        vertical-align: top;\n",
       "    }\n",
       "\n",
       "    .dataframe thead th {\n",
       "        text-align: right;\n",
       "    }\n",
       "</style>\n",
       "<table border=\"1\" class=\"dataframe\">\n",
       "  <thead>\n",
       "    <tr style=\"text-align: right;\">\n",
       "      <th></th>\n",
       "      <th>betCent</th>\n",
       "      <th>degreeCent</th>\n",
       "      <th>closenessCent</th>\n",
       "      <th>eigCent</th>\n",
       "      <th>loadCent</th>\n",
       "    </tr>\n",
       "  </thead>\n",
       "  <tbody>\n",
       "    <tr>\n",
       "      <th>0</th>\n",
       "      <td>0.146729</td>\n",
       "      <td>0.085934</td>\n",
       "      <td>0.353343</td>\n",
       "      <td>3.391796e-05</td>\n",
       "      <td>1.458927e-01</td>\n",
       "    </tr>\n",
       "    <tr>\n",
       "      <th>1</th>\n",
       "      <td>0.000498</td>\n",
       "      <td>0.004210</td>\n",
       "      <td>0.261376</td>\n",
       "      <td>6.045346e-07</td>\n",
       "      <td>2.783274e-06</td>\n",
       "    </tr>\n",
       "    <tr>\n",
       "      <th>2</th>\n",
       "      <td>0.000495</td>\n",
       "      <td>0.002476</td>\n",
       "      <td>0.261258</td>\n",
       "      <td>2.233461e-07</td>\n",
       "      <td>7.595021e-08</td>\n",
       "    </tr>\n",
       "    <tr>\n",
       "      <th>3</th>\n",
       "      <td>0.000497</td>\n",
       "      <td>0.004210</td>\n",
       "      <td>0.261376</td>\n",
       "      <td>6.635648e-07</td>\n",
       "      <td>1.685066e-06</td>\n",
       "    </tr>\n",
       "    <tr>\n",
       "      <th>4</th>\n",
       "      <td>0.000495</td>\n",
       "      <td>0.002476</td>\n",
       "      <td>0.261258</td>\n",
       "      <td>2.236416e-07</td>\n",
       "      <td>1.840332e-07</td>\n",
       "    </tr>\n",
       "    <tr>\n",
       "      <th>...</th>\n",
       "      <td>...</td>\n",
       "      <td>...</td>\n",
       "      <td>...</td>\n",
       "      <td>...</td>\n",
       "      <td>...</td>\n",
       "    </tr>\n",
       "    <tr>\n",
       "      <th>4034</th>\n",
       "      <td>0.000495</td>\n",
       "      <td>0.000495</td>\n",
       "      <td>0.183989</td>\n",
       "      <td>2.951270e-10</td>\n",
       "      <td>0.000000e+00</td>\n",
       "    </tr>\n",
       "    <tr>\n",
       "      <th>4035</th>\n",
       "      <td>0.000495</td>\n",
       "      <td>0.000248</td>\n",
       "      <td>0.183980</td>\n",
       "      <td>2.912901e-10</td>\n",
       "      <td>0.000000e+00</td>\n",
       "    </tr>\n",
       "    <tr>\n",
       "      <th>4036</th>\n",
       "      <td>0.000495</td>\n",
       "      <td>0.000495</td>\n",
       "      <td>0.183989</td>\n",
       "      <td>2.931223e-10</td>\n",
       "      <td>0.000000e+00</td>\n",
       "    </tr>\n",
       "    <tr>\n",
       "      <th>4037</th>\n",
       "      <td>0.000495</td>\n",
       "      <td>0.000991</td>\n",
       "      <td>0.184005</td>\n",
       "      <td>2.989233e-10</td>\n",
       "      <td>7.156847e-08</td>\n",
       "    </tr>\n",
       "    <tr>\n",
       "      <th>4038</th>\n",
       "      <td>0.000496</td>\n",
       "      <td>0.002229</td>\n",
       "      <td>0.184047</td>\n",
       "      <td>8.915175e-10</td>\n",
       "      <td>6.338922e-07</td>\n",
       "    </tr>\n",
       "  </tbody>\n",
       "</table>\n",
       "<p>4039 rows × 5 columns</p>\n",
       "</div>"
      ],
      "text/plain": [
       "       betCent  degreeCent  closenessCent       eigCent      loadCent\n",
       "0     0.146729    0.085934       0.353343  3.391796e-05  1.458927e-01\n",
       "1     0.000498    0.004210       0.261376  6.045346e-07  2.783274e-06\n",
       "2     0.000495    0.002476       0.261258  2.233461e-07  7.595021e-08\n",
       "3     0.000497    0.004210       0.261376  6.635648e-07  1.685066e-06\n",
       "4     0.000495    0.002476       0.261258  2.236416e-07  1.840332e-07\n",
       "...        ...         ...            ...           ...           ...\n",
       "4034  0.000495    0.000495       0.183989  2.951270e-10  0.000000e+00\n",
       "4035  0.000495    0.000248       0.183980  2.912901e-10  0.000000e+00\n",
       "4036  0.000495    0.000495       0.183989  2.931223e-10  0.000000e+00\n",
       "4037  0.000495    0.000991       0.184005  2.989233e-10  7.156847e-08\n",
       "4038  0.000496    0.002229       0.184047  8.915175e-10  6.338922e-07\n",
       "\n",
       "[4039 rows x 5 columns]"
      ]
     },
     "execution_count": 64,
     "metadata": {},
     "output_type": "execute_result"
    }
   ],
   "source": [
    "df"
   ]
  },
  {
   "cell_type": "code",
   "execution_count": 65,
   "id": "028260b7-f21a-451f-9f6b-9b4e86a1bc7c",
   "metadata": {},
   "outputs": [],
   "source": [
    "import matplotlib.ticker"
   ]
  },
  {
   "cell_type": "code",
   "execution_count": 107,
   "id": "639bdc4c-7660-48ac-9d4c-38314baef62d",
   "metadata": {},
   "outputs": [
    {
     "name": "stderr",
     "output_type": "stream",
     "text": [
      "C:\\Users\\marta\\AppData\\Local\\Programs\\Python\\Python39\\lib\\site-packages\\IPython\\core\\pylabtools.py:151: UserWarning: This figure includes Axes that are not compatible with tight_layout, so results might be incorrect.\n",
      "  fig.canvas.print_figure(bytes_io, **kw)\n"
     ]
    },
    {
     "data": {
      "image/png": "[encoded data removed]",
      "text/plain": [
       "<Figure size 700x700 with 1 Axes>"
      ]
     },
     "metadata": {},
     "output_type": "display_data"
    }
   ],
   "source": [
    "plt.rcParams[\"figure.figsize\"] = [7, 7]\n",
    "plt.rcParams[\"figure.autolayout\"] = True\n",
    "\n",
    "fig, ax = plt.subplots()\n",
    "df['degreeCent'].value_counts().plot( kind='kde', ax=ax, logx=True, bw_method=0.0005)\n",
    "df['closenessCent'].plot( kind='kde', ax=ax, logx=True, bw_method=0.0005, color='red')\n",
    "df['eigCent'].plot(kind='kde', ax=ax, logx=True, bw_method=0.0005, color='green')\n",
    "df['loadCent'].plot(kind='kde', ax=ax, logx=True, bw_method=0.0005, color='black')\n",
    "df['betCent'].plot(kind='kde', ax=ax, logx= True, bw_method=0.0005, color = 'orange')\n",
    "plt.show()"
   ]
  },
  {
   "cell_type": "markdown",
   "id": "dee4dc3b-0398-40d1-890f-609c63360022",
   "metadata": {},
   "source": [
    "This graph shows the probability density functions obtained through the Pandas method <b>'kde'</b>, passing as input all the results obtained for each of the five centrality measures applied in our investigation. In particular, <b>pandas.DataFrame.plot.kde</b> generate a Kernel Density Estimate plot using Gaussian kernels. In statistics, kernel density estimation (KDE) is a non-parametric way to estimate the probability density function (PDF) of a random variable (as we can consider each of the executed centrality measures). This function uses Gaussian kernels and includes automatic bandwidth determination, even if in this case we decided to set the scalar bandwidth equal to 0.0005, which could be considered a very small value but we found it suitable for the very small values we deal with: in this case a larger bandwidth value results in under-fitting."
   ]
  },
  {
   "cell_type": "markdown",
   "id": "af16ab9a-bfdc-4bce-b12f-21976e10b90e",
   "metadata": {},
   "source": [
    "In particular:\n",
    "<ul>\n",
    "    <li>the blue plot represents the PDF of the degree centrality,</li>\n",
    "    <li>the red plot represents the PDF of the closeness centrality,</li>\n",
    "    <li>the green plot represents the PDF of the eigenvector centrality,</li>\n",
    "    <li>the orange plot represents the PDF of the betweenness centrality,</li>\n",
    "    <li>the black plot represents the PDF of the load centrality</li>\n",
    "</ul>\n",
    "    "
   ]
  },
  {
   "cell_type": "markdown",
   "id": "c2e7c500-20ba-4f78-b3fc-fbcc35402a11",
   "metadata": {},
   "source": [
    "Analysing the graph obtained from the centrality measures applied to the Facebook Ego Network dataset, we can infer some information:\n",
    "<ul>\n",
    "    <li>the degree centrality nodes' values seem to be very different one from the other, the plot is very close to be a line, there isn't a peak in density and the distribution of the values is really spread;</li>\n",
    "    <li>the red plot, that represents the closeness centrality values' distribution, seems to show the highest concentration of values in the same density area; there are some peaks but we can say that the closeness centrality nodes' values do not vary a lot one from another (differently from the degree centrality distribution);</li>\n",
    "    <li>the load centrality and the betweenness centrality density functions have a very similar shape, even if the orange plot decreases more rapidly: this prove that the load centrality measure is just slightly different from the betweenness;</li>\n",
    "    <li>the green plot has the most uncommon trend: starting from very low eigenvector centrality values, the curve decreases rapidly till 0, then there is a quite high and defined peak, after which the curve tends to go to 0 for higher eigenvector centrality values.</li>\n",
    "</ul>"
   ]
  },
  {
   "cell_type": "markdown",
   "id": "84c71c5b-9419-4fbf-aa7c-dcc17e812d80",
   "metadata": {},
   "source": [
    "<p>So we can say that for this network while there is a strong similarity betweeen the betweenness and the load centrality, there is a difference between the closeness centrality and degree centrality values. It means that while there are few nodes with an high number of connections to other nodes, the Facebook Ego Network's nodes have very similar values of closeness centrality, so there are few marginal nodes in the network and it is highly interconnected. <p>"
   ]
  },
  {
   "cell_type": "code",
   "execution_count": null,
   "id": "96aca664-b3fa-4236-8100-009af4fa2ca1",
   "metadata": {},
   "outputs": [],
   "source": []
  }
 ],
 "metadata": {
  "kernelspec": {
   "display_name": "Python 3 (ipykernel)",
   "language": "python",
   "name": "python3"
  },
  "language_info": {
   "codemirror_mode": {
    "name": "ipython",
    "version": 3
   },
   "file_extension": ".py",
   "mimetype": "text/x-python",
   "name": "python",
   "nbconvert_exporter": "python",
   "pygments_lexer": "ipython3",
   "version": "3.10.5"
  }
 },
 "nbformat": 4,
 "nbformat_minor": 5
}
